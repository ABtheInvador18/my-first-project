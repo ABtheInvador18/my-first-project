{
 "cells": [
  {
   "cell_type": "code",
   "execution_count": 2,
   "id": "4c976ba3",
   "metadata": {},
   "outputs": [],
   "source": [
    "import telegram\n",
    "bot = telegram.Bot(\"5086123846:AAFnJQhbgPH38uW7SYZnoF2gZ9JCSMtz5Xw\")\n",
    "if bot.get_updates():\n",
    "    chat_id = bot.get_updates()[-1].message.chat_id\n",
    "    video = \"https://sample-videos.com/video123/mp4/720/big_buck_bunny_720p_1mb.mp4\"\n",
    "    bot.send_video(chat_id, video)"
   ]
  }
 ],
 "metadata": {
  "kernelspec": {
   "display_name": "Python 3 (ipykernel)",
   "language": "python",
   "name": "python3"
  },
  "language_info": {
   "codemirror_mode": {
    "name": "ipython",
    "version": 3
   },
   "file_extension": ".py",
   "mimetype": "text/x-python",
   "name": "python",
   "nbconvert_exporter": "python",
   "pygments_lexer": "ipython3",
   "version": "3.9.7"
  }
 },
 "nbformat": 4,
 "nbformat_minor": 5
}
